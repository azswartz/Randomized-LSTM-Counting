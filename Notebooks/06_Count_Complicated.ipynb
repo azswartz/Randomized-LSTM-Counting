{
  "nbformat": 4,
  "nbformat_minor": 0,
  "metadata": {
    "colab": {
      "name": "06-Count-Complicated.ipynb",
      "provenance": [],
      "collapsed_sections": []
    },
    "kernelspec": {
      "name": "python3",
      "display_name": "Python 3"
    },
    "accelerator": "GPU"
  },
  "cells": [
    {
      "cell_type": "markdown",
      "metadata": {
        "id": "DI4mQnD8jd1z",
        "colab_type": "text"
      },
      "source": [
        "# 06 Complicated Count\n",
        "\n",
        "The last network was trying to count the number of 1s in a string, which means that it could have just learned that $r_i =x_i$. Just to make sure that it is actually counting the occurrences of things and not just copying the string, here the network will count the number of occurrences of nonnegative integers in a string. "
      ]
    },
    {
      "cell_type": "code",
      "metadata": {
        "id": "Ajix1a-JSMYY",
        "colab_type": "code",
        "colab": {}
      },
      "source": [
        "from google.colab import drive\n",
        "drive.mount('/content/drive')"
      ],
      "execution_count": 0,
      "outputs": []
    },
    {
      "cell_type": "code",
      "metadata": {
        "id": "YGRIv7E4SScS",
        "colab_type": "code",
        "colab": {}
      },
      "source": [
        "%cd drive/My\\ Drive/CS281\\ Final\\ Project"
      ],
      "execution_count": 0,
      "outputs": []
    },
    {
      "cell_type": "markdown",
      "metadata": {
        "id": "VYKWXcycBRSc",
        "colab_type": "text"
      },
      "source": [
        "## Package Loading"
      ]
    },
    {
      "cell_type": "code",
      "metadata": {
        "id": "s19LqsST4SRi",
        "colab_type": "code",
        "colab": {}
      },
      "source": [
        "import matplotlib.pyplot as plt\n",
        "import seaborn as sns\n",
        "import pandas as pd\n",
        "sns.set_context('paper')\n",
        "sns.set_style(\"darkgrid\")\n"
      ],
      "execution_count": 0,
      "outputs": []
    },
    {
      "cell_type": "code",
      "metadata": {
        "id": "1WsCo7B6jF3A",
        "colab_type": "code",
        "colab": {}
      },
      "source": [
        "import torch\n",
        "import torch.nn as nn\n",
        "import torch.nn.functional as F\n",
        "import torch.optim as optim\n",
        "\n",
        "from random import shuffle\n",
        "import numpy as np\n",
        "from sklearn.model_selection import train_test_split\n",
        "device = 'cuda'\n",
        "\n",
        "import pickle"
      ],
      "execution_count": 0,
      "outputs": []
    },
    {
      "cell_type": "markdown",
      "metadata": {
        "id": "0UKlKArUBTPJ",
        "colab_type": "text"
      },
      "source": [
        "## Model Definition"
      ]
    },
    {
      "cell_type": "code",
      "metadata": {
        "id": "9U1VtUxOz7f-",
        "colab_type": "code",
        "colab": {}
      },
      "source": [
        "class Counter():\n",
        "    def __init__(self, hidden):\n",
        "        '''hidden is the number of hidden variables to use per cell'''\n",
        "        self.hidden = hidden\n",
        "        #this LSTM goes from input [batch x length x 1] to output [batch x length x hidden]\n",
        "        self.lstm = nn.LSTM(1, hidden, batch_first=True).double().cuda() \n",
        "\n",
        "        #this matrix transforms from [1 x hidden] to [1 x 1]\n",
        "        self.combine = torch.randn([hidden,1], dtype=float, device=device, requires_grad=True) \n",
        "\n",
        "        params = list(self.lstm.parameters())\n",
        "        params.append(self.combine)\n",
        "        self.optimizer = optim.Adam(params)\n",
        "\n",
        "    @staticmethod\n",
        "    def convert_sequence(seq):\n",
        "        '''converts a set of sequences with the same length from array or numpy into a correctly formatted tensor.\n",
        "        Shape: [batch x length x 1]'''\n",
        "        seq = torch.tensor(seq, device=device).double()\n",
        "        seq = seq.reshape([len(seq), -1, 1])\n",
        "        return seq\n",
        "\n",
        "    def predict(self, sequence):\n",
        "        '''takes a tensor, predicts the sum of the tensor, and compares to the actual sum of the tensor. \n",
        "        Returns the loss and the predicted sum'''\n",
        "\n",
        "        h = torch.zeros([1,sequence.shape[0],self.hidden]).double().cuda()\n",
        "        c = torch.zeros([1,sequence.shape[0],self.hidden]).double().cuda()\n",
        "\n",
        "        o, _ = self.lstm(sequence)\n",
        "        add = torch.sigmoid(o @ self.combine)\n",
        "        count = add.sum(1).squeeze(1)\n",
        "        true = self.true_sum(sequence)\n",
        "        loss = (count - true).pow(2)\n",
        "        return loss, count\n",
        "\n",
        "    def predict_multilength(self, sequences):\n",
        "        '''Takes a list of batches of tensors of different length. Predicts on each batch. Sums up the loss. Reduces to a single mean'''\n",
        "        loss = torch.tensor(0, device=device).double()\n",
        "        count= torch.tensor(0, device=device).double()\n",
        "        for s in sequences:\n",
        "            res    = self.predict(s)[0]\n",
        "            count += res.shape[0]\n",
        "            loss  += res.sum()\n",
        "        return loss / count\n",
        "\n",
        "    @staticmethod\n",
        "    def true_sum(sequence):\n",
        "        '''Determines the true sums of a batch of sequences to train against'''\n",
        "        comp = (sequence >= 0).float()\n",
        "        comp = comp.sum(1).squeeze(1)\n",
        "        return comp"
      ],
      "execution_count": 0,
      "outputs": []
    },
    {
      "cell_type": "markdown",
      "metadata": {
        "id": "kfWFnUlWBqLM",
        "colab_type": "text"
      },
      "source": [
        "## Data Generation"
      ]
    },
    {
      "cell_type": "code",
      "metadata": {
        "id": "IvC9waVe4EGk",
        "colab_type": "code",
        "colab": {}
      },
      "source": [
        "def generate_data(length, total):\n",
        "    counts = np.random.dirichlet((np.arange(length)+1)**2) * total * 0.9\n",
        "    counts = np.round(counts).astype(int)\n",
        "\n",
        "    train_set = []\n",
        "    val_set = []\n",
        "    test_set = []\n",
        "\n",
        "    for i in range(1,length+1):\n",
        "        if counts[i-1] == 0:\n",
        "            continue\n",
        "        seqs = np.random.randint(-10,10, size=[counts[i-1],i])\n",
        "        seqs = np.unique(seqs, axis=0)\n",
        "        try:\n",
        "            train, val = train_test_split(seqs, test_size=2/9, shuffle=True)\n",
        "            train = Counter.convert_sequence(train)\n",
        "            val = Counter.convert_sequence(val)\n",
        "            train_set.append(train)\n",
        "            val_set.append(val)\n",
        "        except ValueError:\n",
        "            continue\n",
        "\n",
        "    counts = np.random.dirichlet((np.arange(length, 2*length)+1)**2) * total * 0.1\n",
        "    counts = np.round(counts).astype(int)\n",
        "    for i in range(length):\n",
        "        if counts[i] == 0:\n",
        "            continue\n",
        "        seqs = np.random.randint(-10,10, size=[counts[i],i+length+1])\n",
        "        seqs = np.unique(seqs, axis=0)\n",
        "        test = Counter.convert_sequence(seqs)\n",
        "        test_set.append(test)\n",
        "\n",
        "    return train_set, val_set, test_set\n"
      ],
      "execution_count": 0,
      "outputs": []
    },
    {
      "cell_type": "code",
      "metadata": {
        "id": "80ekLB3rz96d",
        "colab_type": "code",
        "colab": {}
      },
      "source": [
        "#generate all the strings and partition into train and test\n",
        "length = 64\n",
        "hidden = 10\n",
        "depth = 100000\n",
        "\n",
        "output_folder = \"Part-6-Outputs\""
      ],
      "execution_count": 0,
      "outputs": []
    },
    {
      "cell_type": "code",
      "metadata": {
        "id": "V28nvi7EGArd",
        "colab_type": "code",
        "colab": {}
      },
      "source": [
        "# train, val, test = generate_data(length,depth)\n",
        "\n",
        "# with open(\"%s/Data.pickle\"%output_folder, \"wb\") as f:\n",
        "#     pickle.dump([train, val, test], f)"
      ],
      "execution_count": 0,
      "outputs": []
    },
    {
      "cell_type": "code",
      "metadata": {
        "id": "-k82PKEhGETm",
        "colab_type": "code",
        "colab": {}
      },
      "source": [
        "with open(\"%s/Data.pickle\"%output_folder, \"rb\") as f:\n",
        "    train, val, test = pickle.load(f)"
      ],
      "execution_count": 0,
      "outputs": []
    },
    {
      "cell_type": "code",
      "metadata": {
        "id": "XIQ6ykY8G65T",
        "colab_type": "code",
        "outputId": "eac76ff8-9051-4681-ca96-bca0f3e4ee60",
        "colab": {
          "base_uri": "https://localhost:8080/",
          "height": 127
        }
      },
      "source": [
        "trainsize = sum([x.shape[0] for x in train])\n",
        "valsize = sum([x.shape[0] for x in val])\n",
        "testsize = sum([x.shape[0] for x in test])\n",
        "print(trainsize, valsize, testsize)\n",
        "\n",
        "total = trainsize+valsize+testsize\n",
        "print(\"Total:\",total)\n",
        "print(\"Fraction %.3f %.3f %.3f\"%(trainsize/total, valsize/total, testsize/total))\n",
        "\n",
        "print(\"Train    string range: %d-%d\"%(min([x.shape[1] for x in train]), max([x.shape[1] for x in train])))\n",
        "print(\"Validate string range: %d-%d\"%(min([x.shape[1] for x in val]), max([x.shape[1] for x in val])))\n",
        "print(\"Test     string range: %d-%d\"%(min([x.shape[1] for x in test]), max([x.shape[1] for x in test])))"
      ],
      "execution_count": 0,
      "outputs": [
        {
          "output_type": "stream",
          "text": [
            "69974 20029 9996\n",
            "Total: 99999\n",
            "Fraction 0.700 0.200 0.100\n",
            "Train    string range: 2-64\n",
            "Validate string range: 2-64\n",
            "Test     string range: 65-128\n"
          ],
          "name": "stdout"
        }
      ]
    },
    {
      "cell_type": "markdown",
      "metadata": {
        "id": "BO19JkYIXSAU",
        "colab_type": "text"
      },
      "source": [
        "## Model Training"
      ]
    },
    {
      "cell_type": "code",
      "metadata": {
        "id": "EsuiwPh729fA",
        "colab_type": "code",
        "colab": {}
      },
      "source": [
        "#train over all the training data\n",
        "model = Counter(hidden=hidden)\n",
        "\n",
        "history = []\n",
        "best = float('inf')\n",
        "patience = 10\n",
        "tol = 0.001\n",
        "count = 0\n",
        "\n",
        "for epoch in range(1000000): \n",
        "    shuffle(train)\n",
        "    shuffle(val)\n",
        "    if epoch % 100 == 0:\n",
        "        train_loss = model.predict_multilength(train).item()\n",
        "        with torch.no_grad():\n",
        "            val_loss = model.predict_multilength(val).item()\n",
        "        history.append([train_loss, val_loss])\n",
        "        print(\"Epoch: %5d. Train Loss: %7.3f. Validation Loss: %7.3f\"%(epoch, train_loss, val_loss))\n",
        "\n",
        "        if val_loss + tol < best:\n",
        "            best = val_loss\n",
        "            count = 0\n",
        "        else:\n",
        "            count += 1\n",
        "        if count >= patience:\n",
        "            break\n",
        "\n",
        "    #take the average loss over all the train data\n",
        "    loss = model.predict_multilength(train)   \n",
        "    #and update\n",
        "    model.optimizer.zero_grad()\n",
        "    loss.backward(retain_graph=True)\n",
        "    model.optimizer.step()\n",
        "\n",
        "# history = np.array(history)\n",
        "# np.save(\"%s/Train-History\"%output_folder, history)\n",
        "# torch.save(model, \"%s/Model\"%output_folder)\n",
        "\n",
        "# #display testing results\n",
        "# loss = model.predict_multilength(test)\n",
        "# print(\"Average Test Loss:\", loss.item())"
      ],
      "execution_count": 0,
      "outputs": []
    },
    {
      "cell_type": "markdown",
      "metadata": {
        "id": "azs8MF9xXe4v",
        "colab_type": "text"
      },
      "source": [
        "## Results Evaluation\n",
        "\n",
        "The deliverable here is the same as in the previous notebook."
      ]
    },
    {
      "cell_type": "code",
      "metadata": {
        "id": "IuDksNrpXgGu",
        "colab_type": "code",
        "colab": {}
      },
      "source": [
        "history = np.load(\"%s/Train-History.npy\"%output_folder)\n",
        "train_loss = history[:,0]\n",
        "val_loss = history[:,1]\n",
        "model = torch.load(\"%s/Model\"%output_folder)"
      ],
      "execution_count": 0,
      "outputs": []
    },
    {
      "cell_type": "code",
      "metadata": {
        "id": "9ScJ52dth8NG",
        "colab_type": "code",
        "outputId": "c2453a9f-96d3-4541-a221-94c5e4df2b27",
        "colab": {
          "base_uri": "https://localhost:8080/",
          "height": 35
        }
      },
      "source": [
        "loss = model.predict_multilength(test)\n",
        "print(\"Average Test Loss:\", loss.item())"
      ],
      "execution_count": 0,
      "outputs": [
        {
          "output_type": "stream",
          "text": [
            "Average Test Loss: 0.0014292939812155382\n"
          ],
          "name": "stdout"
        }
      ]
    },
    {
      "cell_type": "code",
      "metadata": {
        "id": "ewlTJ_cIzlDt",
        "colab_type": "code",
        "colab": {}
      },
      "source": [
        "res = []\n",
        "rs = []\n",
        "inds = list(range(50,1000,50))+list(range(1000,10000,50))#+list(range(1000,10000,1000))\n",
        "for length in inds:\n",
        "    seq = np.random.randint(-10,10,size=(1,length,1))\n",
        "    true = (seq >= 0).sum()\n",
        "    seq = torch.tensor(seq).double().cuda()\n",
        "    pred = model.predict(seq)[1].item()\n",
        "    res.append([length, true, pred])\n",
        "    o, _ = model.lstm(test[-1][0:1])\n",
        "    add = torch.sigmoid(o @ model.combine)\n",
        "    rs.extend(add.squeeze().tolist())\n",
        "res = pd.DataFrame(res, columns=[\"Length\", \"True\", \"Predicted\"])\n",
        "res[\"Error\"] = np.abs(res[\"True\"] - res[\"Predicted\"]) / res[\"Length\"]"
      ],
      "execution_count": 0,
      "outputs": []
    },
    {
      "cell_type": "code",
      "metadata": {
        "id": "2_w49MiR1H-e",
        "colab_type": "code",
        "outputId": "0de7cee2-ebb6-4486-9c88-53aef1d3dc66",
        "colab": {
          "base_uri": "https://localhost:8080/",
          "height": 298
        }
      },
      "source": [
        "plt.figure(figsize=(15,4))\n",
        "# sns.set(rc={\"xtick.bottom\" : True, \"ytick.left\" : True})\n",
        "# sns.set_style(\"ticks\")\n",
        "plt.subplot(1,3,1)\n",
        "plt.scatter(res[\"True\"], res[\"Predicted\"], s=5,color='k', edgecolor='k')\n",
        "plt.xlabel(\"True Count\")\n",
        "plt.ylabel(\"Predicted Count\")\n",
        "plt.title(\"Real versus Predicted Sum for Test Data\")\n",
        "plt.subplot(1,3,2)\n",
        "plt.plot(res[\"Length\"], res[\"Error\"], linewidth=2, color='k')\n",
        "plt.xlabel(\"String Length\")\n",
        "plt.ylabel(\"Prediction Error / String Length\")\n",
        "plt.title(\"Relative Prediction Error versus Test String Length\")\n",
        "plt.subplot(1,3,3)\n",
        "plt.hist(rs, bins=50,color='k')\n",
        "plt.xlabel(\"Counter Increment Probability\")\n",
        "plt.ylabel(\"Number of Occurrences\")\n",
        "plt.title(\"Counter Increment Probability Distribution\")\n",
        "plt.tight_layout()\n",
        "plt.savefig(\"Figures/06-plot1.png\", dpi=300)\n"
      ],
      "execution_count": 0,
      "outputs": [
        {
          "output_type": "display_data",
          "data": {
            "image/png": "[encoded data removed]",
            "text/plain": [
              "<Figure size 1080x288 with 3 Axes>"
            ]
          },
          "metadata": {
            "tags": []
          }
        }
      ]
    }
  ]
}