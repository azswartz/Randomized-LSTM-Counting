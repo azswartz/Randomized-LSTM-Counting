{
  "nbformat": 4,
  "nbformat_minor": 0,
  "metadata": {
    "colab": {
      "name": "08-Scaled-Bits.ipynb",
      "provenance": [],
      "collapsed_sections": []
    },
    "kernelspec": {
      "name": "python3",
      "display_name": "Python 3"
    },
    "accelerator": "GPU"
  },
  "cells": [
    {
      "cell_type": "markdown",
      "metadata": {
        "id": "DI4mQnD8jd1z",
        "colab_type": "text"
      },
      "source": [
        "# 08 Scaled Counting\n",
        "\n",
        "Now the random information is scalars from 0-1. This means that the network now has to learn that the random float with value < 1/2^x means to increment the counter. "
      ]
    },
    {
      "cell_type": "code",
      "metadata": {
        "id": "Ajix1a-JSMYY",
        "colab_type": "code",
        "colab": {}
      },
      "source": [
        "from google.colab import drive\n",
        "drive.mount('/content/drive')"
      ],
      "execution_count": 0,
      "outputs": []
    },
    {
      "cell_type": "code",
      "metadata": {
        "id": "YGRIv7E4SScS",
        "colab_type": "code",
        "colab": {}
      },
      "source": [
        "%cd drive/My\\ Drive/CS281\\ Final\\ Project"
      ],
      "execution_count": 0,
      "outputs": []
    },
    {
      "cell_type": "markdown",
      "metadata": {
        "id": "VYKWXcycBRSc",
        "colab_type": "text"
      },
      "source": [
        "## Package Loading"
      ]
    },
    {
      "cell_type": "code",
      "metadata": {
        "id": "s19LqsST4SRi",
        "colab_type": "code",
        "colab": {}
      },
      "source": [
        "import matplotlib.pyplot as plt\n",
        "import seaborn as sns\n",
        "import pandas as pd"
      ],
      "execution_count": 0,
      "outputs": []
    },
    {
      "cell_type": "code",
      "metadata": {
        "id": "1WsCo7B6jF3A",
        "colab_type": "code",
        "colab": {}
      },
      "source": [
        "import torch\n",
        "import torch.nn as nn\n",
        "import torch.nn.functional as F\n",
        "import torch.optim as optim\n",
        "\n",
        "from random import shuffle\n",
        "import numpy as np\n",
        "from sklearn.model_selection import train_test_split\n",
        "device = 'cuda'\n",
        "\n",
        "from time import time\n",
        "from math import isclose\n",
        "import pickle\n",
        "import sys"
      ],
      "execution_count": 0,
      "outputs": []
    },
    {
      "cell_type": "markdown",
      "metadata": {
        "id": "gQ0QdpRENO3R",
        "colab_type": "text"
      },
      "source": [
        "## Manual Counter Implementation"
      ]
    },
    {
      "cell_type": "code",
      "metadata": {
        "id": "kLaPrg3GN9QS",
        "colab_type": "code",
        "colab": {}
      },
      "source": [
        "def morris_count(seq):\n",
        "    '''seq[:,0] is the sequence. seq[:,1] is the random floats.'''\n",
        "    x = 0\n",
        "    for i in seq:\n",
        "        if i[0] == 1 and i[1]*(2**x)<=1:\n",
        "            x += 1\n",
        "    return x"
      ],
      "execution_count": 0,
      "outputs": []
    },
    {
      "cell_type": "markdown",
      "metadata": {
        "id": "0UKlKArUBTPJ",
        "colab_type": "text"
      },
      "source": [
        "## Model Definition"
      ]
    },
    {
      "cell_type": "code",
      "metadata": {
        "id": "9U1VtUxOz7f-",
        "colab_type": "code",
        "colab": {}
      },
      "source": [
        "class Counter():\n",
        "    def __init__(self, hidden):\n",
        "        '''hidden is the number of hidden variables to use per cell'''\n",
        "        self.hidden = hidden\n",
        "        input_size=2\n",
        "        #this LSTM goes from input [batch x length x 1] to output [batch x length x hidden]\n",
        "        self.lstm = nn.LSTM(hidden_size=hidden, batch_first=True, input_size=input_size).double().cuda() \n",
        "\n",
        "        #this matrix transforms from [1 x hidden] to [1 x 1]\n",
        "        self.combine = torch.randn([hidden,1], dtype=float, device=device, requires_grad=True) \n",
        "\n",
        "        params = list(self.lstm.parameters())\n",
        "        params.append(self.combine)\n",
        "        self.optimizer = optim.Adam(params)\n",
        "\n",
        "    @staticmethod\n",
        "    def convert_sequence(seq):\n",
        "        '''converts a set of sequences with the same length from array or numpy into a correctly formatted tensor.'''\n",
        "        seq = torch.tensor(seq, device=device).double()\n",
        "        seq = seq.reshape([len(seq), -1, 1])\n",
        "        return seq\n",
        "\n",
        "    def predict(self, sequence):\n",
        "        '''takes a tensor, predicts the sum of the tensor, and compares to the target sum of the tensor. \n",
        "        Returns the loss and the predicted sum'''\n",
        "\n",
        "        floats = torch.rand_like(sequence)\n",
        "        sequence = torch.cat([sequence, floats], 2)\n",
        "        o, _ = self.lstm(sequence)\n",
        "        add = torch.sigmoid(o @ self.combine)\n",
        "        count = add.sum(1).squeeze(1)\n",
        "        target = self.true_sum(sequence)\n",
        "        loss = (count - target).pow(2)\n",
        "        return loss, count\n",
        "\n",
        "    def predict_multilength(self, sequences):\n",
        "        '''Takes a list of batches of tensors of different length. Predicts on each batch. Sums up the loss. Reduces to a single mean'''\n",
        "        loss = torch.tensor(0, device=device).double()\n",
        "        count= torch.tensor(0, device=device).double()\n",
        "        for s in sequences:\n",
        "            res    = self.predict(s)[0]\n",
        "            count += res.shape[0]\n",
        "            loss  += res.sum()\n",
        "        return loss / count\n",
        "\n",
        "    @staticmethod\n",
        "    def true_sum(sequence):\n",
        "        '''Determines the true sums of a batch of sequences to train against'''\n",
        "        res = []\n",
        "        for seq in sequence:\n",
        "            res.append(morris_count(seq))\n",
        "        res = np.array(res, dtype=float)\n",
        "        return torch.tensor(res, device=device).double()"
      ],
      "execution_count": 0,
      "outputs": []
    },
    {
      "cell_type": "markdown",
      "metadata": {
        "id": "kfWFnUlWBqLM",
        "colab_type": "text"
      },
      "source": [
        "## Data Generation"
      ]
    },
    {
      "cell_type": "code",
      "metadata": {
        "id": "IvC9waVe4EGk",
        "colab_type": "code",
        "colab": {}
      },
      "source": [
        "def round_partition(p):\n",
        "    '''Rounds a partition so that the sum of the partition equals the original sum'''\n",
        "    rounded = np.round(p).astype(int)\n",
        "    ind = len(rounded)-1\n",
        "    while rounded.sum() < p.sum():\n",
        "        rounded[ind] += 1\n",
        "        ind -= 1\n",
        "    return rounded\n",
        "\n",
        "def generate_data(length, total):\n",
        "    counts = np.random.dirichlet((np.arange(length)+1)**2) * total * 0.9\n",
        "    counts = round_partition(counts)\n",
        "\n",
        "    train_set = []\n",
        "    val_set = []\n",
        "    test_set = []\n",
        "    for i in range(1,length+1):\n",
        "        if counts[i-1] == 0:\n",
        "            continue\n",
        "        seqs = np.random.randint(0,2, size=[counts[i-1],i])\n",
        "        seqs = np.unique(seqs, axis=0)[:,:,None]\n",
        "        try:\n",
        "            train, val = train_test_split(seqs, test_size=2/9, shuffle=True)\n",
        "            train = Counter.convert_sequence(train)\n",
        "            val = Counter.convert_sequence(val)\n",
        "            train_set.append(train)\n",
        "            val_set.append(val)\n",
        "        except ValueError:\n",
        "            train = Counter.convert_sequence(seqs)\n",
        "            train_set.append(train)\n",
        "            continue\n",
        "    counts = np.random.dirichlet((np.arange(length, 2*length)+1)**2) * total * 0.1\n",
        "    counts = round_partition(counts)\n",
        "\n",
        "    for i in range(length):\n",
        "        if counts[i] == 0:\n",
        "            continue\n",
        "        seqs = np.random.randint(0,2, size=[counts[i],i+length+1])\n",
        "        seqs = np.unique(seqs, axis=0)[:,:,None]\n",
        "        seqs = Counter.convert_sequence(seqs)\n",
        "        test_set.append(seqs)\n",
        "\n",
        "    return train_set, val_set, test_set\n"
      ],
      "execution_count": 0,
      "outputs": []
    },
    {
      "cell_type": "code",
      "metadata": {
        "id": "80ekLB3rz96d",
        "colab_type": "code",
        "colab": {}
      },
      "source": [
        "#generate all the strings and partition into train and test\n",
        "length = 64\n",
        "hidden = 10\n",
        "depth = 100\n",
        "\n",
        "output_folder = \"Part-8-Outputs\""
      ],
      "execution_count": 0,
      "outputs": []
    },
    {
      "cell_type": "code",
      "metadata": {
        "id": "V28nvi7EGArd",
        "colab_type": "code",
        "colab": {}
      },
      "source": [
        "# train, val, test = generate_data(length,depth)\n",
        "\n",
        "# with open(\"%s/Data.pickle\"%output_folder, \"wb\") as f:\n",
        "#     pickle.dump([train, val, test], f)"
      ],
      "execution_count": 0,
      "outputs": []
    },
    {
      "cell_type": "code",
      "metadata": {
        "id": "-k82PKEhGETm",
        "colab_type": "code",
        "colab": {}
      },
      "source": [
        "with open(\"%s/Data.pickle\"%output_folder, \"rb\") as f:\n",
        "    train, val, test = pickle.load(f)"
      ],
      "execution_count": 0,
      "outputs": []
    },
    {
      "cell_type": "code",
      "metadata": {
        "id": "XIQ6ykY8G65T",
        "colab_type": "code",
        "outputId": "26360744-53ba-4d4e-b73e-46e9afa81e37",
        "colab": {
          "base_uri": "https://localhost:8080/",
          "height": 127
        }
      },
      "source": [
        "trainsize = sum([x.shape[0] for x in train])\n",
        "valsize = sum([x.shape[0] for x in val])\n",
        "testsize = sum([x.shape[0] for x in test])\n",
        "print(trainsize, valsize, testsize)\n",
        "\n",
        "total = trainsize+valsize+testsize\n",
        "print(\"Total:\",total) \n",
        "print(\"Fraction %.3f %.3f %.3f\"%(trainsize/total, valsize/total, testsize/total))\n",
        "\n",
        "print(\"Train    string range: %d-%d\"%(min([x.shape[1] for x in train]), max([x.shape[1] for x in train])))\n",
        "print(\"Validate string range: %d-%d\"%(min([x.shape[1] for x in val]), max([x.shape[1] for x in val])))\n",
        "print(\"Test     string range: %d-%d\"%(min([x.shape[1] for x in test]), max([x.shape[1] for x in test])))"
      ],
      "execution_count": 0,
      "outputs": [
        {
          "output_type": "stream",
          "text": [
            "676 224 100\n",
            "Total: 1000\n",
            "Fraction 0.676 0.224 0.100\n",
            "Train    string range: 8-64\n",
            "Validate string range: 12-64\n",
            "Test     string range: 65-128\n"
          ],
          "name": "stdout"
        }
      ]
    },
    {
      "cell_type": "markdown",
      "metadata": {
        "id": "BO19JkYIXSAU",
        "colab_type": "text"
      },
      "source": [
        "## Model Training"
      ]
    },
    {
      "cell_type": "code",
      "metadata": {
        "id": "EsuiwPh729fA",
        "colab_type": "code",
        "colab": {}
      },
      "source": [
        "#train over all the training data\n",
        "model = Counter(hidden=hidden)\n",
        "\n",
        "history = []\n",
        "best = float('inf')\n",
        "patience = 10\n",
        "tol = 0.001\n",
        "count = 0\n",
        "\n",
        "start = time()\n",
        "for epoch in range(1,1000000): \n",
        "    shuffle(train)\n",
        "    shuffle(val)\n",
        "    if epoch % 100 == 0:\n",
        "        train_loss = model.predict_multilength(train).item()\n",
        "        with torch.no_grad():\n",
        "            val_loss = model.predict_multilength(val).item()\n",
        "        history.append([train_loss, val_loss])\n",
        "        print(\"Epoch: %5d. Train Loss: %7.3f. Validation Loss: %7.3f. Elapsed: %7.3f\"%(epoch, train_loss, val_loss, (time()-start)/60))\n",
        "        start = time()\n",
        "\n",
        "        if val_loss + tol < best:\n",
        "            best = val_loss\n",
        "            count = 0\n",
        "            torch.save(model, \"%s/Model\"%output_folder)\n",
        "        else:\n",
        "            count += 1\n",
        "        if count >= patience:\n",
        "            break\n",
        "\n",
        "    #take the average loss over all the train data\n",
        "    loss = model.predict_multilength(train)   \n",
        "    #and update\n",
        "    model.optimizer.zero_grad()\n",
        "    loss.backward(retain_graph=True)\n",
        "    model.optimizer.step()\n",
        "\n",
        "# history = np.array(history)\n",
        "# np.save(\"%s/Train-History\"%output_folder, history)\n",
        "# torch.save(model, \"%s/Model\"%output_folder)\n",
        "\n",
        "# #display testing results\n",
        "# loss = model.predict_multilength(test)\n",
        "# print(\"Average Test Loss:\", loss.item())"
      ],
      "execution_count": 0,
      "outputs": []
    },
    {
      "cell_type": "markdown",
      "metadata": {
        "id": "azs8MF9xXe4v",
        "colab_type": "text"
      },
      "source": [
        "## Results Evaluation\n",
        "\n",
        "Note that since random bits are generated on the fly, the results will vary per run. \n",
        "\n",
        "It seems that the network fails on instances which have low morris counts. Something to explore would be to take the same string and add bits that give a high morris count and bits that give a low morris count and compare."
      ]
    },
    {
      "cell_type": "code",
      "metadata": {
        "id": "EaE-1EOt4CXk",
        "colab_type": "code",
        "colab": {}
      },
      "source": [
        "model = torch.load(\"%s/Model\"%output_folder)"
      ],
      "execution_count": 0,
      "outputs": []
    },
    {
      "cell_type": "code",
      "metadata": {
        "id": "unX-NIDzdnG8",
        "colab_type": "code",
        "outputId": "dad6cba0-cd94-44e3-deb2-4e0a34e12bdf",
        "colab": {
          "base_uri": "https://localhost:8080/",
          "height": 72
        }
      },
      "source": [
        "loss = model.predict_multilength(train)\n",
        "print(\"Average Train Loss:\", loss.item())\n",
        "loss = model.predict_multilength(val)\n",
        "print(\"Average Val   Loss:\",  loss.item())\n",
        "loss = model.predict_multilength(test)\n",
        "print(\"Average Test  Loss:\", loss.item())"
      ],
      "execution_count": 0,
      "outputs": [
        {
          "output_type": "stream",
          "text": [
            "Average Train Loss: 0.4943855223773172\n",
            "Average Val   Loss: 0.5859959819127604\n",
            "Average Test  Loss: 1.7939269004421456\n"
          ],
          "name": "stdout"
        }
      ]
    },
    {
      "cell_type": "code",
      "metadata": {
        "id": "exR_xTc9fPNv",
        "colab_type": "code",
        "colab": {}
      },
      "source": [
        "history = np.load(f\"{output_folder}/Train-History.npy\")"
      ],
      "execution_count": 0,
      "outputs": []
    },
    {
      "cell_type": "code",
      "metadata": {
        "id": "opChMUxDL8JN",
        "colab_type": "code",
        "colab": {}
      },
      "source": [
        "loss = []\n",
        "pred = []\n",
        "size = []"
      ],
      "execution_count": 0,
      "outputs": []
    },
    {
      "cell_type": "code",
      "metadata": {
        "id": "VMzYmObjJ_uC",
        "colab_type": "code",
        "colab": {}
      },
      "source": [
        "for length in range(1000,10000,1000):\n",
        "    depth = np.random.randint(1,10)\n",
        "    seq = np.random.randint(0,2,size=(depth,length,1))\n",
        "    seq = torch.tensor(seq).double().cuda()\n",
        "    l,p = model.predict(seq)\n",
        "    l = l.tolist()\n",
        "    p = p.tolist()\n",
        "    loss.extend(l)\n",
        "    pred.extend(p)\n",
        "    size.extend([length for _ in p])"
      ],
      "execution_count": 0,
      "outputs": []
    },
    {
      "cell_type": "code",
      "metadata": {
        "id": "zs600gb_M5QE",
        "colab_type": "code",
        "colab": {}
      },
      "source": [
        "true = []\n",
        "for l,p in zip(loss,pred):\n",
        "    t = p - np.sqrt(l)\n",
        "    if not isclose(t, int(t)):\n",
        "        t = p + np.sqrt(l)\n",
        "    true.append(t)"
      ],
      "execution_count": 0,
      "outputs": []
    },
    {
      "cell_type": "code",
      "metadata": {
        "id": "C_Bo9OC_L-er",
        "colab_type": "code",
        "colab": {}
      },
      "source": [
        "# res = pd.DataFrame({\"Predicted\":pred, \"Loss\":loss, \"Length\":size, \"Real\":true})\n",
        "# res.to_csv(\"%s/Large_testing\"%output_folder)"
      ],
      "execution_count": 0,
      "outputs": []
    },
    {
      "cell_type": "code",
      "metadata": {
        "id": "sDkp8MX-OCMz",
        "colab_type": "code",
        "colab": {}
      },
      "source": [
        "res1 = pd.read_csv(\"Part-8-Outputs/Large_testing\")\n",
        "res2 = pd.read_csv(\"Part-8.1-Outputs/Large_testing-8.1\")\n",
        "res3 = pd.read_csv(\"Part-8.2-Outputs/Large_testing-8.2\")\n"
      ],
      "execution_count": 0,
      "outputs": []
    },
    {
      "cell_type": "code",
      "metadata": {
        "id": "2Ie3LEnFK4IT",
        "colab_type": "code",
        "outputId": "ec72801a-1650-491d-bd59-036d02fca466",
        "colab": {
          "base_uri": "https://localhost:8080/",
          "height": 293
        }
      },
      "source": [
        "#note: this combines results from 8,8.1, and 8.2\n",
        "sns.set()\n",
        "plt.figure(figsize=(12,4))\n",
        "plt.subplot(1,3,1)\n",
        "sns.scatterplot(x=\"Real\", y=\"Predicted\", data=res1, color='k')\n",
        "plt.title(\"No Intermediate\")\n",
        "plt.ylabel(\"Predicted Count\")\n",
        "plt.xlabel(\"Actual Count\")\n",
        "plt.xlim([0,15])\n",
        "plt.ylim([0,350])\n",
        "\n",
        "plt.subplot(1,3,2)\n",
        "sns.scatterplot(x=\"Real\", y=\"Predicted\", data=res2, color='k')\n",
        "plt.title(\"Exponential Intermediate\")\n",
        "plt.xlim([0,15])\n",
        "plt.ylim([0,350])\n",
        "plt.ylabel(\"\")\n",
        "plt.xlabel(\"Actual Count\")\n",
        "\n",
        "\n",
        "plt.subplot(1,3,3)\n",
        "sns.scatterplot(x=\"Real\", y=\"Predicted\", data=res3, color='k')\n",
        "plt.title(\"Logarithmic Intermediate\")\n",
        "plt.xlim([0,15])\n",
        "plt.ylim([0,350])\n",
        "plt.ylabel(\"\")\n",
        "plt.xlabel(\"Actual Count\")\n",
        "\n",
        "plt.tight_layout()\n",
        "plt.savefig(\"Figures/08-plot1.png\", dpi=300)\n"
      ],
      "execution_count": 0,
      "outputs": [
        {
          "output_type": "display_data",
          "data": {
            "image/png": "[encoded data removed]",
            "text/plain": [
              "<Figure size 864x288 with 3 Axes>"
            ]
          },
          "metadata": {
            "tags": []
          }
        }
      ]
    },
    {
      "cell_type": "code",
      "metadata": {
        "id": "kp1CVxpdTVbu",
        "colab_type": "code",
        "colab": {}
      },
      "source": [
        ""
      ],
      "execution_count": 0,
      "outputs": []
    }
  ]
}