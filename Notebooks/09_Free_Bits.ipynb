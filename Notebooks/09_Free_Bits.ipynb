{
  "nbformat": 4,
  "nbformat_minor": 0,
  "metadata": {
    "colab": {
      "name": "09-Free-Bits.ipynb",
      "provenance": [],
      "collapsed_sections": []
    },
    "kernelspec": {
      "name": "python3",
      "display_name": "Python 3"
    },
    "accelerator": "GPU"
  },
  "cells": [
    {
      "cell_type": "markdown",
      "metadata": {
        "id": "DI4mQnD8jd1z",
        "colab_type": "text"
      },
      "source": [
        "# 09 Free Bits\n",
        "\n",
        "Random 0-1 random bits will be generated on the fly and processed by the network with no preprocessing done. Now the network has to learn how many random bits to take and then what to do with thim. "
      ]
    },
    {
      "cell_type": "code",
      "metadata": {
        "id": "Ajix1a-JSMYY",
        "colab_type": "code",
        "colab": {}
      },
      "source": [
        "from google.colab import drive\n",
        "drive.mount('/content/drive')"
      ],
      "execution_count": 0,
      "outputs": []
    },
    {
      "cell_type": "code",
      "metadata": {
        "id": "YGRIv7E4SScS",
        "colab_type": "code",
        "colab": {}
      },
      "source": [
        "%cd drive/My\\ Drive/CS281\\ Final\\ Project"
      ],
      "execution_count": 0,
      "outputs": []
    },
    {
      "cell_type": "markdown",
      "metadata": {
        "id": "VYKWXcycBRSc",
        "colab_type": "text"
      },
      "source": [
        "## Package Loading"
      ]
    },
    {
      "cell_type": "code",
      "metadata": {
        "id": "s19LqsST4SRi",
        "colab_type": "code",
        "colab": {}
      },
      "source": [
        "import matplotlib.pyplot as plt\n",
        "from matplotlib.gridspec import GridSpec\n",
        "import seaborn as sns\n",
        "import pandas as pd"
      ],
      "execution_count": 0,
      "outputs": []
    },
    {
      "cell_type": "code",
      "metadata": {
        "id": "1WsCo7B6jF3A",
        "colab_type": "code",
        "colab": {}
      },
      "source": [
        "import torch\n",
        "import torch.nn as nn\n",
        "import torch.nn.functional as F\n",
        "import torch.optim as optim\n",
        "\n",
        "from random import shuffle\n",
        "import numpy as np\n",
        "from sklearn.model_selection import train_test_split\n",
        "device = 'cuda'\n",
        "\n",
        "from time import time\n",
        "import pickle"
      ],
      "execution_count": 0,
      "outputs": []
    },
    {
      "cell_type": "markdown",
      "metadata": {
        "id": "gQ0QdpRENO3R",
        "colab_type": "text"
      },
      "source": [
        "## Manual Counter Implementation"
      ]
    },
    {
      "cell_type": "code",
      "metadata": {
        "id": "kLaPrg3GN9QS",
        "colab_type": "code",
        "colab": {}
      },
      "source": [
        "def morris_count(seq, bits):\n",
        "    '''seq is the sequence to count. bits is the set of random bits that were used'''\n",
        "    x = 0\n",
        "    seq_loc = 0\n",
        "    bit_loc = 0\n",
        "    seq = seq.squeeze()\n",
        "    bits = bits.squeeze(2).squeeze(0)\n",
        "    while seq_loc < len(seq):\n",
        "        if bit_loc + x > len(bits):\n",
        "            bits = torch.cat([bits, torch.randint_like(bits, low=0, high=2)])\n",
        "        toss = bits[bit_loc:bit_loc+x]\n",
        "        toss = toss.sum()\n",
        "        bit_loc += x\n",
        "        if toss == 0 and seq[seq_loc] == 1:\n",
        "            x += 1\n",
        "        seq_loc += 1\n",
        "    return torch.tensor(x).double().cuda()\n"
      ],
      "execution_count": 0,
      "outputs": []
    },
    {
      "cell_type": "markdown",
      "metadata": {
        "id": "0UKlKArUBTPJ",
        "colab_type": "text"
      },
      "source": [
        "## Model Definition"
      ]
    },
    {
      "cell_type": "code",
      "metadata": {
        "id": "9U1VtUxOz7f-",
        "colab_type": "code",
        "colab": {}
      },
      "source": [
        "class Counter():\n",
        "    def __init__(self, hidden, input_size=1):\n",
        "        '''hidden is the number of hidden variables to use per cell'''\n",
        "        self.hidden = hidden\n",
        "        \n",
        "\n",
        "        self.count_lstm= nn.LSTM(hidden_size=hidden, batch_first=True, input_size=2).double().cuda() \n",
        "        self.bits_lstm = nn.LSTM(hidden_size=hidden, batch_first=True, input_size=hidden+1).double().cuda() \n",
        "        self.switch_lstm = nn.LSTM(hidden_size=hidden, batch_first=True, input_size=2*hidden+1).double().cuda() \n",
        "        self.bits_dense = torch.randn([hidden,1], dtype=float, device=device, requires_grad=True) \n",
        "        self.switch_dense = torch.randn([hidden,1], dtype=float, device=device, requires_grad=True) \n",
        "        self.count_dense = torch.randn([hidden,1], dtype=float, device=device, requires_grad=True) \n",
        "\n",
        "        params = list(self.count_lstm.parameters()) + list(self.switch_lstm.parameters()) + list(self.bits_lstm.parameters())\n",
        "        params.append(self.switch_dense)\n",
        "        params.append(self.count_dense)\n",
        "        self.optimizer = optim.Adam(params)\n",
        "\n",
        "    @staticmethod\n",
        "    def convert_sequence(seq, input_size=1):\n",
        "        '''converts a set of sequences with the same length from array or numpy into a correctly formatted tensor.'''\n",
        "        seq = torch.tensor(seq, device=device).double()\n",
        "        seq = seq.reshape([len(seq), -1, input_size])\n",
        "        return seq\n",
        "\n",
        "    def single_predict(self, seq):\n",
        "        '''Takes a single sequence (length x 1), does a prediction, and outputs the prediction, the true count on the same random bits, and the loss'''\n",
        "        bits = []\n",
        "        output = []\n",
        "        hidden = self.hidden\n",
        "\n",
        "        out_s = torch.zeros([1,1,1]).double().cuda()\n",
        "        out_c = torch.zeros([1,1,hidden]).double().cuda()\n",
        "        out_b = torch.zeros([1,1,hidden]).double().cuda()\n",
        "\n",
        "        state_s = [torch.zeros([1,1,hidden]).double().cuda(),torch.zeros([1,1,hidden]).double().cuda()]\n",
        "        state_b = [torch.zeros([1,1,hidden]).double().cuda(),torch.zeros([1,1,hidden]).double().cuda()]\n",
        "        state_c = [torch.zeros([1,1,hidden]).double().cuda(),torch.zeros([1,1,hidden]).double().cuda()]\n",
        "\n",
        "        for i in range(seq.shape[0]):\n",
        "            b_sum = torch.zeros([1,1,1]).double().cuda()\n",
        "            s_sum = torch.zeros([1,1,1]).double().cuda()\n",
        "            while s_sum < 1:\n",
        "                rand = torch.randint(low=0, high=2, size=(1,1,1)).double().cuda() \n",
        "                bits.append(rand)\n",
        "                inp_s = torch.cat([rand,out_c,out_b],2)\n",
        "                inp_b = torch.cat([rand,out_c],2)\n",
        "                out_s, state_s = self.switch_lstm(inp_s, state_s)\n",
        "                out_b, state_b = self.bits_lstm(inp_b, state_b)\n",
        "                s_sum += torch.sigmoid(out_s @ self.switch_dense)\n",
        "                b_sum += torch.sigmoid(out_b @ self.bits_dense)\n",
        "            inp_c = torch.cat([seq[None,i,None], b_sum], 2)\n",
        "            out_c, state_c = self.count_lstm(inp_c, state_c)\n",
        "            output.append(torch.sigmoid(out_c @ self.count_dense))\n",
        "\n",
        "        output = torch.cat(output, 1)\n",
        "        bits = torch.cat(bits, 1).int()\n",
        "        count = output.sum()\n",
        "        true = morris_count(seq, bits)\n",
        "        loss = (count - true).pow(2)\n",
        "        return loss, count, true\n",
        "\n",
        "    def batch_predict(self, sequences):\n",
        "        '''predicts on a batch of sequences which all have the same length'''\n",
        "        loss = torch.tensor(0).double().cuda()\n",
        "        for seq in sequences:\n",
        "            loss += self.single_predict(seq)[0]\n",
        "        return loss\n",
        "\n",
        "    def predict_multilength(self, multilen_sequences):\n",
        "        '''Takes a list of batches of tensors of different length. Predicts on each batch. Sums up the loss. Reduces to a single mean'''\n",
        "        loss = torch.tensor(0, device=device).double()\n",
        "        total= torch.tensor(0, device=device).double()\n",
        "        for length in multilen_sequences:\n",
        "            res    = self.batch_predict(length)\n",
        "            total += length.shape[0]\n",
        "            loss  += res.sum()\n",
        "        return loss / total\n",
        "\n",
        "    @staticmethod\n",
        "    def true_sum(sequence):\n",
        "        '''Determines the true sums of a batch of sequences to train against'''\n",
        "        res = []\n",
        "        for seq in sequence:\n",
        "            res.append(morris_count(seq))\n",
        "        res = np.array(res, dtype=float)\n",
        "        return torch.tensor(res, device=device).double()"
      ],
      "execution_count": 0,
      "outputs": []
    },
    {
      "cell_type": "markdown",
      "metadata": {
        "id": "kfWFnUlWBqLM",
        "colab_type": "text"
      },
      "source": [
        "## Data Generation"
      ]
    },
    {
      "cell_type": "code",
      "metadata": {
        "id": "IvC9waVe4EGk",
        "colab_type": "code",
        "colab": {}
      },
      "source": [
        "def round_partition(p):\n",
        "    '''Rounds a partition so that the sum of the partition equals the original sum'''\n",
        "    rounded = np.round(p).astype(int)\n",
        "    ind = len(rounded)-1\n",
        "    while rounded.sum() < p.sum():\n",
        "        rounded[ind] += 1\n",
        "        ind -= 1\n",
        "    return rounded\n",
        "\n",
        "def generate_data(length, total):\n",
        "    counts = np.random.dirichlet((np.arange(length)+1)**2) * total * 0.9\n",
        "    counts = round_partition(counts)\n",
        "\n",
        "    train_set = []\n",
        "    val_set = []\n",
        "    test_set = []\n",
        "    for i in range(1,length+1):\n",
        "        if counts[i-1] == 0:\n",
        "            continue\n",
        "        seqs = np.random.randint(0,2, size=[counts[i-1],i])\n",
        "        seqs = np.unique(seqs, axis=0)[:,:,None]\n",
        "        try:\n",
        "            train, val = train_test_split(seqs, test_size=2/9, shuffle=True)\n",
        "            train = Counter.convert_sequence(train)\n",
        "            val = Counter.convert_sequence(val)\n",
        "            train_set.append(train)\n",
        "            val_set.append(val)\n",
        "        except ValueError:\n",
        "            train = Counter.convert_sequence(seqs)\n",
        "            train_set.append(train)\n",
        "            continue\n",
        "    counts = np.random.dirichlet((np.arange(length, 2*length)+1)**2) * total * 0.1\n",
        "    counts = round_partition(counts)\n",
        "\n",
        "    for i in range(length):\n",
        "        if counts[i] == 0:\n",
        "            continue\n",
        "        seqs = np.random.randint(0,2, size=[counts[i],i+length+1])\n",
        "        seqs = np.unique(seqs, axis=0)[:,:,None]\n",
        "        seqs = Counter.convert_sequence(seqs)\n",
        "        test_set.append(seqs)\n",
        "\n",
        "    return train_set, val_set, test_set\n"
      ],
      "execution_count": 0,
      "outputs": []
    },
    {
      "cell_type": "code",
      "metadata": {
        "id": "80ekLB3rz96d",
        "colab_type": "code",
        "colab": {}
      },
      "source": [
        "#generate all the strings and partition into train and test\n",
        "length = 64\n",
        "hidden = 10\n",
        "depth = 100\n",
        "\n",
        "output_folder = \"Part-9-Outputs\""
      ],
      "execution_count": 0,
      "outputs": []
    },
    {
      "cell_type": "code",
      "metadata": {
        "id": "V28nvi7EGArd",
        "colab_type": "code",
        "colab": {}
      },
      "source": [
        "# train, val, test = generate_data(length,depth)\n",
        "\n",
        "# with open(\"%s/Data.pickle\"%output_folder, \"wb\") as f:\n",
        "#     pickle.dump([train, val, test], f)"
      ],
      "execution_count": 0,
      "outputs": []
    },
    {
      "cell_type": "code",
      "metadata": {
        "id": "-k82PKEhGETm",
        "colab_type": "code",
        "colab": {}
      },
      "source": [
        "with open(\"%s/Data.pickle\"%output_folder, \"rb\") as f:\n",
        "    train, val, test = pickle.load(f)"
      ],
      "execution_count": 0,
      "outputs": []
    },
    {
      "cell_type": "code",
      "metadata": {
        "id": "XIQ6ykY8G65T",
        "colab_type": "code",
        "outputId": "8930bfc1-1671-4dca-ee68-dc41792155e9",
        "colab": {
          "base_uri": "https://localhost:8080/",
          "height": 127
        }
      },
      "source": [
        "trainsize = sum([x.shape[0] for x in train])\n",
        "valsize = sum([x.shape[0] for x in val])\n",
        "testsize = sum([x.shape[0] for x in test])\n",
        "print(trainsize, valsize, testsize)\n",
        "\n",
        "total = trainsize+valsize+testsize\n",
        "print(\"Total:\",total) \n",
        "print(\"Fraction %.3f %.3f %.3f\"%(trainsize/total, valsize/total, testsize/total))\n",
        "\n",
        "print(\"Train    string range: %d-%d\"%(min([x.shape[1] for x in train]), max([x.shape[1] for x in train])))\n",
        "print(\"Validate string range: %d-%d\"%(min([x.shape[1] for x in val]), max([x.shape[1] for x in val])))\n",
        "print(\"Test     string range: %d-%d\"%(min([x.shape[1] for x in test]), max([x.shape[1] for x in test])))"
      ],
      "execution_count": 0,
      "outputs": [
        {
          "output_type": "stream",
          "text": [
            "63 27 10\n",
            "Total: 100\n",
            "Fraction 0.630 0.270 0.100\n",
            "Train    string range: 23-64\n",
            "Validate string range: 39-64\n",
            "Test     string range: 119-128\n"
          ],
          "name": "stdout"
        }
      ]
    },
    {
      "cell_type": "markdown",
      "metadata": {
        "id": "BO19JkYIXSAU",
        "colab_type": "text"
      },
      "source": [
        "## Model Training"
      ]
    },
    {
      "cell_type": "code",
      "metadata": {
        "id": "Aq5R5UiKZdR7",
        "colab_type": "code",
        "colab": {}
      },
      "source": [
        "#train over all the training data\n",
        "model = Counter(hidden=hidden)\n",
        "\n",
        "history = []\n",
        "best = float('inf')\n",
        "patience = 25\n",
        "tol = 0.001\n",
        "count = 0"
      ],
      "execution_count": 0,
      "outputs": []
    },
    {
      "cell_type": "code",
      "metadata": {
        "id": "EsuiwPh729fA",
        "colab_type": "code",
        "colab": {}
      },
      "source": [
        "start = time()\n",
        "\n",
        "for epoch in range(1,1000000): \n",
        "    shuffle(train)\n",
        "    shuffle(val)\n",
        "    if epoch % 10 == 0:\n",
        "        train_loss = model.predict_multilength(train).item()\n",
        "        with torch.no_grad():\n",
        "            val_loss = model.predict_multilength(val).item()\n",
        "        history.append([train_loss, val_loss])\n",
        "        print(\"Epoch: %5d. Train Loss: %7.3f. Validation Loss: %7.3f. Elapsed: %7.3f\"%(epoch, train_loss, val_loss, (time()-start)/60))\n",
        "        start = time()\n",
        "\n",
        "        if val_loss + tol < best:\n",
        "            best = val_loss\n",
        "            count = 0\n",
        "            torch.save(model, \"%s/Model\"%output_folder)\n",
        "\n",
        "        else:\n",
        "            count += 1\n",
        "        if count >= patience:\n",
        "            break\n",
        "\n",
        "    #take the average loss over all the train data\n",
        "    loss = model.predict_multilength(train)   \n",
        "    #and update\n",
        "    model.optimizer.zero_grad()\n",
        "    loss.backward(retain_graph=True)\n",
        "    model.optimizer.step()\n",
        "\n",
        "# history = np.array(history)\n",
        "# np.save(\"%s/Train-History\"%output_folder, history)\n",
        "# \n",
        "# #display testing results\n",
        "# loss = model.predict_multilength(test)\n",
        "# print(\"Average Test Loss:\", loss.item())"
      ],
      "execution_count": 0,
      "outputs": []
    },
    {
      "cell_type": "markdown",
      "metadata": {
        "id": "azs8MF9xXe4v",
        "colab_type": "text"
      },
      "source": [
        "## Results Evaluation"
      ]
    },
    {
      "cell_type": "code",
      "metadata": {
        "id": "IuDksNrpXgGu",
        "colab_type": "code",
        "colab": {}
      },
      "source": [
        "model = torch.load(\"%s/Model\"%output_folder)"
      ],
      "execution_count": 0,
      "outputs": []
    },
    {
      "cell_type": "code",
      "metadata": {
        "id": "bbw_n_7ra3pJ",
        "colab_type": "code",
        "outputId": "4402e3a9-e236-4828-de9e-ff555c0e4f30",
        "colab": {
          "base_uri": "https://localhost:8080/",
          "height": 72
        }
      },
      "source": [
        "loss = model.predict_multilength(train)\n",
        "print(\"Average Train Loss:\", loss.item())\n",
        "loss = model.predict_multilength(val)\n",
        "print(\"Average Val   Loss:\", loss.item())\n",
        "loss = model.predict_multilength(test)\n",
        "print(\"Average Test  Loss:\", loss.item())"
      ],
      "execution_count": 0,
      "outputs": [
        {
          "output_type": "stream",
          "text": [
            "Average Train Loss: 1.1422592800364266\n",
            "Average Val   Loss: 0.9524080828385917\n",
            "Average Test  Loss: 11.97364098252961\n"
          ],
          "name": "stdout"
        }
      ]
    },
    {
      "cell_type": "code",
      "metadata": {
        "id": "ZYJZJjOXvA0P",
        "colab_type": "code",
        "colab": {}
      },
      "source": [
        "res = []\n",
        "for s in range(3):\n",
        "    for chunk in [train, val, test][s]:\n",
        "        length = chunk.shape[1]\n",
        "        for sample in chunk:\n",
        "            # sample = sample.unsqueeze(0)\n",
        "            l,p,t = model.single_predict(sample)\n",
        "            res.append([[\"Train\", \"Validate\", \"Test\"][s],length, l.item(), p.item(), t.item()])\n",
        "\n",
        "for length in range(65,128):\n",
        "    #make extra test data\n",
        "    for _ in range(5):\n",
        "        seq = np.random.randint(0,2,size=(length,1))\n",
        "        seq = torch.tensor(seq).double().cuda()\n",
        "        l,p,t = model.single_predict(seq)\n",
        "        res.append([\"Test\", length, l.item(), p.item(), t.item()])\n",
        "res = pd.DataFrame(res, columns=[\"Partition\", \"Length\", \"Loss\", \"Predicted Count\" ,\"True Count\"])\n",
        "# res['Error'] = np.abs(res['Predicted Count'] - res['True Count'])"
      ],
      "execution_count": 0,
      "outputs": []
    },
    {
      "cell_type": "code",
      "metadata": {
        "id": "9KF2rk6pa-AO",
        "colab_type": "code",
        "outputId": "ebfa600b-1f08-4c51-9f6b-f6414d4b4060",
        "colab": {
          "base_uri": "https://localhost:8080/",
          "height": 313
        }
      },
      "source": [
        "sns.set()\n",
        "plt.figure(figsize=(16,4))\n",
        "gs = GridSpec(1,2, width_ratios=[1,2.4]) \n",
        "plt.subplot(gs[0])\n",
        "sns.kdeplot(data=res[res['Partition'] == 'Train']['True Count'], data2=res[res['Partition'] == 'Train']['Predicted Count'], \\\n",
        "            shade=True, cmap='Blues',shade_lowest=False)\n",
        "sns.kdeplot(data=res[res['Partition'] == 'Validate']['True Count'], data2=res[res['Partition'] == 'Validate']['Predicted Count'], \\\n",
        "            shade=True, cmap='Oranges',shade_lowest=False)\n",
        "sns.kdeplot(data=res[res['Partition'] == 'Test']['True Count'], data2=res[res['Partition'] == 'Test']['Predicted Count'], \\\n",
        "            shade=True, cmap='Greens',shade_lowest=False, label=\"Test\")\n",
        "plt.plot([2,8],[2,8], color='k', linewidth=1)\n",
        "\n",
        "# plt.xlim([1,8])\n",
        "# plt.ylim([1,10])\n",
        "plt.title(\"Network Prediction Accuracy\")\n",
        "plt.subplot(gs[1])\n",
        "plt.title(\"Network Prediction Accuracy\")\n",
        "sns.scatterplot(x=\"Length\", y=\"Loss\", hue=\"Partition\", data=res)\n",
        "plt.xlabel(\"String Length\")\n",
        "plt.ylabel(\"Prediction Loss\")\n",
        "plt.tight_layout()\n",
        "plt.savefig('Figures/09-plot1', dpi=300)"
      ],
      "execution_count": 0,
      "outputs": [
        {
          "output_type": "display_data",
          "data": {
            "image/png": "[encoded data removed]",
            "text/plain": [
              "<Figure size 1152x288 with 2 Axes>"
            ]
          },
          "metadata": {
            "tags": []
          }
        }
      ]
    },
    {
      "cell_type": "code",
      "metadata": {
        "id": "EWoDxTad0-md",
        "colab_type": "code",
        "colab": {}
      },
      "source": [
        ""
      ],
      "execution_count": 0,
      "outputs": []
    }
  ]
}