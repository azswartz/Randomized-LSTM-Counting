{
  "nbformat": 4,
  "nbformat_minor": 0,
  "metadata": {
    "colab": {
      "name": "04-Unequal-Length.ipynb",
      "provenance": [],
      "collapsed_sections": []
    },
    "kernelspec": {
      "name": "python3",
      "display_name": "Python 3"
    },
    "accelerator": "GPU"
  },
  "cells": [
    {
      "cell_type": "markdown",
      "metadata": {
        "id": "DI4mQnD8jd1z",
        "colab_type": "text"
      },
      "source": [
        "# 04 Unequal Length\n",
        "\n",
        "I train the LSTM on all strings of length $\\le k$, test the LSTM on all strings of length $>k, \\le 2k$ and then gradually increase $k$ from 16 to 128. I just changed the data generation, so everything else should be the same.\n"
      ]
    },
    {
      "cell_type": "code",
      "metadata": {
        "id": "Ajix1a-JSMYY",
        "colab_type": "code",
        "colab": {}
      },
      "source": [
        "from google.colab import drive\n",
        "drive.mount('/content/drive')"
      ],
      "execution_count": 0,
      "outputs": []
    },
    {
      "cell_type": "code",
      "metadata": {
        "id": "YGRIv7E4SScS",
        "colab_type": "code",
        "colab": {}
      },
      "source": [
        "%cd drive/My\\ Drive/CS281\\ Final\\ Project"
      ],
      "execution_count": 0,
      "outputs": []
    },
    {
      "cell_type": "markdown",
      "metadata": {
        "id": "VYKWXcycBRSc",
        "colab_type": "text"
      },
      "source": [
        "## Package Loading"
      ]
    },
    {
      "cell_type": "code",
      "metadata": {
        "id": "1WsCo7B6jF3A",
        "colab_type": "code",
        "colab": {}
      },
      "source": [
        "import torch\n",
        "import torch.nn as nn\n",
        "import torch.nn.functional as F\n",
        "import torch.optim as optim\n",
        "\n",
        "import numpy as np\n",
        "from sklearn.model_selection import train_test_split\n",
        "device = 'cuda'\n",
        "\n",
        "import matplotlib.pyplot as plt\n",
        "import seaborn as sns\n",
        "import pandas as pd"
      ],
      "execution_count": 0,
      "outputs": []
    },
    {
      "cell_type": "markdown",
      "metadata": {
        "id": "0UKlKArUBTPJ",
        "colab_type": "text"
      },
      "source": [
        "## Model Definition"
      ]
    },
    {
      "cell_type": "code",
      "metadata": {
        "id": "9U1VtUxOz7f-",
        "colab_type": "code",
        "colab": {}
      },
      "source": [
        "class Counter():\n",
        "    def __init__(self, hidden):\n",
        "        '''hidden is the number of hidden variables to use per cell'''\n",
        "\n",
        "        #this LSTM goes from input [batch x length x 1] to output [batch x length x hidden]\n",
        "        self.lstm = nn.LSTM(1, hidden, batch_first=True).double().cuda() \n",
        "\n",
        "        #this matrix transforms from [1 x hidden] to [1 x 1]\n",
        "        self.combine = torch.randn([hidden,1], dtype=float, device=device, requires_grad=True) \n",
        "\n",
        "        params = list(self.lstm.parameters())\n",
        "        params.append(self.combine)\n",
        "        self.optimizer = optim.Adam(params)\n",
        "\n",
        "    @staticmethod\n",
        "    def convert_sequence(seq):\n",
        "        '''converts a set of sequences with the same length from array or numpy into a correctly formatted tensor.\n",
        "        Shape: [batch x length x 1]'''\n",
        "        seq = torch.tensor(seq, device=device).double()\n",
        "        seq = seq.reshape([len(seq), -1, 1])\n",
        "        return seq\n",
        "\n",
        "    def predict(self, sequence):\n",
        "        '''takes a tensor, predicts the sum of the tensor, and compares to the actual sum of the tensor. \n",
        "        Returns the loss and the predicted sum'''\n",
        "        pred, _ = self.lstm(sequence)\n",
        "        pred = pred[:,-1,:] @ self.combine \n",
        "        #the second index is the rolling output. The final output is the last element in that index\n",
        "\n",
        "        loss = (pred - sequence.sum(1)).pow(2)\n",
        "        return loss, pred\n",
        "\n",
        "    def predict_multilength(self, sequences):\n",
        "        '''Takes a list of batches of tensors of different length. Predicts on each batch. Sums up the loss. Reduces to a single mean'''\n",
        "        loss = torch.tensor(0, device=device).double()\n",
        "        count= torch.tensor(0, device=device).double()\n",
        "        for s in sequences:\n",
        "            pred = self.predict(s)[0]\n",
        "            count += pred.shape[0]\n",
        "            loss += pred.sum()\n",
        "        return loss / count"
      ],
      "execution_count": 0,
      "outputs": []
    },
    {
      "cell_type": "markdown",
      "metadata": {
        "id": "kfWFnUlWBqLM",
        "colab_type": "text"
      },
      "source": [
        "## Model Testing"
      ]
    },
    {
      "cell_type": "code",
      "metadata": {
        "id": "IvC9waVe4EGk",
        "colab_type": "code",
        "colab": {}
      },
      "source": [
        "def generate_data(length, total):\n",
        "    counts = np.random.dirichlet(np.arange(length)**2+1) * total * 0.9\n",
        "    counts = np.round(counts).astype(int)\n",
        "\n",
        "    train_set = []\n",
        "    val_set = []\n",
        "    test_set = []\n",
        "\n",
        "    for i in range(1,length+1):\n",
        "        if counts[i-1] == 0:\n",
        "            continue\n",
        "        seqs = np.random.randint(0,2, size=[counts[i-1],i])\n",
        "        seqs = np.unique(seqs, axis=0)\n",
        "        try:\n",
        "            train, val = train_test_split(seqs, test_size=2/9, shuffle=True)\n",
        "            train = Counter.convert_sequence(train)\n",
        "            val = Counter.convert_sequence(val)\n",
        "            train_set.append(train)\n",
        "            val_set.append(val)\n",
        "        except ValueError:\n",
        "            continue\n",
        "\n",
        "    counts = np.random.dirichlet(np.arange(length, 2*length)**2+1) * total * 0.1\n",
        "    counts = np.round(counts).astype(int)\n",
        "    for i in range(length):\n",
        "        if counts[i] == 0:\n",
        "            continue\n",
        "        seqs = np.random.randint(0,2, size=[counts[i],i+length+1])\n",
        "        seqs = np.unique(seqs, axis=0)\n",
        "        test = Counter.convert_sequence(seqs)\n",
        "        test_set.append(test)\n",
        "\n",
        "    trainsize = sum([x.shape[0] for x in train_set])\n",
        "    valsize = sum([x.shape[0] for x in val_set])\n",
        "    testsize = sum([x.shape[0] for x in test_set])\n",
        "    print(trainsize, valsize, testsize)\n",
        "\n",
        "    total = trainsize+valsize+testsize\n",
        "    print(\"Total:\",total)\n",
        "    print(\"Fraction %.3f %.3f %.3f\"%(trainsize/total, valsize/total, testsize/total))\n",
        "    return train_set, val_set, test_set"
      ],
      "execution_count": 0,
      "outputs": []
    },
    {
      "cell_type": "code",
      "metadata": {
        "id": "tf4TPAXBV7we",
        "colab_type": "code",
        "colab": {}
      },
      "source": [
        "train, val, test = generate_data(16,100000)\n",
        "for x in train:\n",
        "    print(x.shape)\n",
        "for x in val:\n",
        "    print(x.shape)\n",
        "for x in test:\n",
        "    print(x.shape)"
      ],
      "execution_count": 0,
      "outputs": []
    },
    {
      "cell_type": "code",
      "metadata": {
        "id": "EsuiwPh729fA",
        "colab_type": "code",
        "colab": {}
      },
      "source": [
        "#generate all the strings and partition into train and test\n",
        "length = 16\n",
        "hidden = 5\n",
        "\n",
        "print(length)\n",
        "depth = 100000\n",
        "train, val, test = generate_data(length,depth)\n",
        "#train over all the training data\n",
        "model = Counter(hidden=hidden)\n",
        "\n",
        "history = []\n",
        "best = float('inf')\n",
        "patience = 10\n",
        "tol = 0.001\n",
        "count = 0\n",
        "\n",
        "for epoch in range(1000000): \n",
        "    shuffle(train)\n",
        "    shuffle(val)\n",
        "    if epoch % 100 == 0:\n",
        "        train_loss = model.predict_multilength(train).item()\n",
        "        with torch.no_grad():\n",
        "            val_loss = model.predict_multilength(val).item()\n",
        "        history.append([train_loss, val_loss])\n",
        "        print(\"Epoch: %5d. Train Loss: %7.3f. Validation Loss: %7.3f\"%(epoch, train_loss, val_loss))\n",
        "\n",
        "        if val_loss + tol < best:\n",
        "            best = val_loss\n",
        "            count = 0\n",
        "        else:\n",
        "            count += 1\n",
        "        if count >= patience:\n",
        "            break\n",
        "\n",
        "    #take the average loss over all the train data\n",
        "    loss = model.predict_multilength(train)   \n",
        "    #and update\n",
        "    model.optimizer.zero_grad()\n",
        "    loss.backward(retain_graph=True)\n",
        "    model.optimizer.step()\n",
        "history = np.array(history)\n",
        "np.save(\"Part-3-Outputs/Train-%d-%d\"%(hidden, length), history)\n",
        "torch.save(model, \"Part-3-Outputs/Model-%d-%d\"%(hidden, length))\n",
        "\n",
        "#display testing results\n",
        "loss = model.predict_multilength(test)\n",
        "print(\"Average Test Loss:\", loss.item())\n",
        "\n",
        "with open(\"Part-3-Outputs/TrainResults.txt\", 'a') as f:\n",
        "    f.write(\"%3d %9.5f\\n\"%(length, loss.item()))\n",
        "\n",
        "with open(\"Part-3-Outputs/Test-%d-%d.txt\"%(hidden, length), 'w') as f:\n",
        "    for seq in test:\n",
        "        loss, pred = model.predict(seq)\n",
        "        for k in range(len(seq)):\n",
        "            string = seq[k].int().cpu().numpy().flatten()\n",
        "            f.write(\"%s -- %d -- %.3f\\n\"%(str(string), sum(string), pred[k].item()))\n",
        "\n",
        "print('\\n\\n\\n')"
      ],
      "execution_count": 0,
      "outputs": []
    },
    {
      "cell_type": "markdown",
      "metadata": {
        "id": "guCr_i5zx9MQ",
        "colab_type": "text"
      },
      "source": [
        "## Results"
      ]
    },
    {
      "cell_type": "code",
      "metadata": {
        "id": "b1ouKEYhCIfm",
        "colab_type": "code",
        "colab": {}
      },
      "source": [
        "def ReadOutFile(h, l):\n",
        "  file_name = 'Part-4-Outputs/Run' + str(h) + '_' + str(l) + '.out'\n",
        "  s = open(file_name)\n",
        "  line_num = 0\n",
        "  epoch, train_loss, val_loss = [], [], []\n",
        "\n",
        "  for line in s:\n",
        "    line_num += 1\n",
        "    if line_num == 2:\n",
        "      train_num, val_num, test_num = line.split()\n",
        "      \n",
        "    elif line_num > 4 and len(line.split()) == 8:\n",
        "      _, x, _, _, y, _, _, z =  line.split()\n",
        "      epoch.append(float(x.rstrip('.')))\n",
        "      train_loss.append(float(y.rstrip('.')))\n",
        "      val_loss.append(float(z))\n",
        "\n",
        "    elif line_num > 4 and len(line.split()) == 4:\n",
        "      _, _, _, avg_test_loss = line.split()\n",
        "    \n",
        "  return epoch, train_loss, val_loss, float(avg_test_loss)\n",
        "\n",
        "def PlotOutFile(h, l):\n",
        "  epoch, train_loss, val_loss, _ = ReadOutFile(h, l)\n",
        "  plt.plot(epoch, train_loss, c = 'r', label = 'Training Loss', alpha = 0.7)\n",
        "  plt.plot(epoch, val_loss,  c = 'b', label = 'Validation Loss', alpha = 0.7)\n",
        "  plt.title(\"Hidden Units = \" + str(h) + \"; Length = \" + str(l))\n",
        "  plt.xlabel(\"Epoch\")\n",
        "  plt.ylabel(\"MSE\")\n",
        "  plt.legend()\n",
        "  plt.show()\n",
        "\n",
        "def PlotMultipleOutFilesConstL(hs, l):\n",
        "  for h in hs:\n",
        "    epoch, train_loss, val_loss, _ = ReadOutFile(h, l)\n",
        "    plt.plot(epoch, val_loss, label = str(h) + ' Hidden Units' , alpha = 0.7)\n",
        "  plt.xscale('log')\n",
        "  plt.title(\"Length = \" + str(l))\n",
        "  plt.xlabel(\"Epoch\")\n",
        "  plt.ylabel(\"Validation MSE\")\n",
        "  plt.legend()\n",
        "  plt.show()\n",
        "  \n",
        "def PlotMultipleOutFilesConstH(h, ls):\n",
        "  for l in ls:\n",
        "    epoch, train_loss, val_loss, _ = ReadOutFile(h, l)\n",
        "    plt.plot(epoch, val_loss, label = 'Length = ' + str(l) , alpha = 0.7)\n",
        "  plt.xscale('log')\n",
        "  plt.title(str(h) + \" Hidden Units\")\n",
        "  plt.xlabel(\"Epoch\")\n",
        "  plt.ylabel(\"Validation MSE\")\n",
        "  plt.legend()\n",
        "  plt.show()\n",
        "\n",
        "def PlotMultipleOutFilesConstHZoomed(h, ls, print_epoch = 15000):\n",
        "  for l in ls:\n",
        "    epoch, train_loss, val_loss, _ = ReadOutFile(h, l)\n",
        "    choosen_epoch, choosen_val_loss = [], []\n",
        "    for i in range(len(epoch)):\n",
        "      if epoch[i] > print_epoch:\n",
        "        choosen_epoch.append(epoch[i])\n",
        "        choosen_val_loss.append(val_loss[i])\n",
        "    plt.plot(choosen_epoch, choosen_val_loss, label = 'Length = ' + str(l) , alpha = 0.7)\n",
        "  plt.xscale('log')\n",
        "  plt.title(str(h) + \" Hidden Units\")\n",
        "  plt.xlabel(\"Epoch\")\n",
        "  plt.ylabel(\"Validation MSE\")\n",
        "  plt.legend()\n",
        "  plt.show()\n",
        "\n",
        "def PlotTestErrorConstH(h, ls):\n",
        "  test_error  = []\n",
        "  for l in ls:\n",
        "    _, _, _, avg_test_loss = ReadOutFile(h, l)\n",
        "    test_error.append(avg_test_loss)\n",
        "  \n",
        "  plt.plot(ls, test_error)\n",
        "  plt.title(str(h) + \" Hidden Units\")\n",
        "  plt.xlabel(\"Length\")\n",
        "  plt.ylabel(\"Test MSE\")\n",
        "  plt.legend()\n",
        "  plt.show()"
      ],
      "execution_count": 0,
      "outputs": []
    },
    {
      "cell_type": "code",
      "metadata": {
        "id": "xm-K2Pe6KHGs",
        "colab_type": "code",
        "colab": {}
      },
      "source": [
        "passes = []\n",
        "fails = []\n",
        "\n",
        "for h in range(1,8,2):\n",
        "  for l in range(16,257,16):\n",
        "    try:\n",
        "      epoch, train_loss, val_loss, avg_test_loss = ReadOutFile(h,l)\n",
        "      if avg_test_loss:\n",
        "        passes.append((h,l,len(epoch), train_loss[-1], val_loss[-1], avg_test_loss))\n",
        "      else:\n",
        "        fails.append((h,l,len(epoch), train_loss[-1], val_loss[-1], avg_test_loss))\n",
        "    except:\n",
        "      pass"
      ],
      "execution_count": 0,
      "outputs": []
    },
    {
      "cell_type": "code",
      "metadata": {
        "id": "rVsmArkVTCeh",
        "colab_type": "code",
        "outputId": "7132619a-32e3-4a93-82fc-ced5fdd17be6",
        "colab": {
          "base_uri": "https://localhost:8080/",
          "height": 434
        }
      },
      "source": [
        "max_possibles = []\n",
        "ks = []\n",
        "\n",
        "for h in range(1,8,2):\n",
        "  for l in range(16,129,16):\n",
        "    try:\n",
        "      weights = torch.load('Part-4-Outputs/Model-' + str(h) + '-' + str(l))\n",
        "      max_possibles += [float(sum(abs(weights.combine)))]\n",
        "      ks += [l]\n",
        "    except:\n",
        "      print(h,l)\n",
        "      continue\n",
        "\n",
        "plt.plot(np.linspace(0,128), np.linspace(0,128), color='k',label='y=x', alpha=0.7)\n",
        "\n",
        "plt.scatter(ks,max_possibles)\n",
        "plt.title(\"All fully trained models\")\n",
        "plt.xlabel(\"Length\")\n",
        "plt.ylabel(\"Max possible output\")\n",
        "plt.legend()\n",
        "plt.show()"
      ],
      "execution_count": 0,
      "outputs": [
        {
          "output_type": "stream",
          "text": [
            "1 80\n",
            "1 96\n",
            "1 112\n",
            "1 128\n",
            "3 128\n",
            "5 128\n",
            "7 112\n",
            "7 128\n"
          ],
          "name": "stdout"
        },
        {
          "output_type": "display_data",
          "data": {
            "image/png": "[encoded data removed]",
            "text/plain": [
              "<Figure size 432x288 with 1 Axes>"
            ]
          },
          "metadata": {
            "tags": []
          }
        }
      ]
    },
    {
      "cell_type": "code",
      "metadata": {
        "id": "9oA2bUjzxwnQ",
        "colab_type": "code",
        "colab": {}
      },
      "source": [
        "def PlotMultipleOutFilesConstLZoomed(hs, l, print_epochs, xscale='log'):\n",
        "  for h in hs:\n",
        "    epoch, train_loss, val_loss, _ = ReadOutFile(h, l)\n",
        "    choosen_epoch, choosen_val_loss = [], []\n",
        "    for i in range(len(epoch)):\n",
        "      if epoch[i] in print_epochs:\n",
        "        choosen_epoch.append(epoch[i])\n",
        "        choosen_val_loss.append(val_loss[i])\n",
        "    plt.plot(choosen_epoch, choosen_val_loss, label = str(h) + ' Hidden Units'  , alpha = 0.7)\n",
        "  plt.xscale(xscale)\n",
        "  plt.title(\"Length = \" + str(l))\n",
        "  plt.xlabel(\"Epoch\")\n",
        "  plt.ylabel(\"Validation MSE\")\n",
        "  plt.legend()\n",
        "  plt.show()"
      ],
      "execution_count": 0,
      "outputs": []
    }
  ]
}